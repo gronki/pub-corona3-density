{
 "cells": [
  {
   "cell_type": "code",
   "execution_count": 1,
   "metadata": {},
   "outputs": [],
   "source": [
    "from sympy import *\n",
    "init_printing()"
   ]
  },
  {
   "cell_type": "code",
   "execution_count": 2,
   "metadata": {},
   "outputs": [
    {
     "data": {
      "image/png": "[encoded data removed]",
      "text/latex": [
       "$$\\left ( kbff_{0}, \\quad ksct_{0}, \\quad \\rho, \\quad T\\right )$$"
      ],
      "text/plain": [
       "(kbff₀, ksct₀, ρ, T)"
      ]
     },
     "execution_count": 2,
     "metadata": {},
     "output_type": "execute_result"
    }
   ],
   "source": [
    "var('kbff0 ksct0 rho T', real = True, positive = True)"
   ]
  },
  {
   "cell_type": "code",
   "execution_count": 3,
   "metadata": {},
   "outputs": [],
   "source": [
    "kbff = kbff0 * rho * T**(-3.5)\n",
    "kcut1 = 32 * (rho / 2e-9)**0.2 * (T / 1e4)**12\n",
    "kcut2 = 64 * (rho / 2e-9)**0.2 * (T / 1e4)**5"
   ]
  },
  {
   "cell_type": "code",
   "execution_count": 4,
   "metadata": {},
   "outputs": [
    {
     "name": "stdout",
     "output_type": "stream",
     "text": [
      "kap = T**(-3.5d0)*kbff0*rho\n",
      "krho = T**(-3.5d0)*kbff0\n",
      "ktemp = -3.5d0*T**(-4.5d0)*kbff0*rho\n"
     ]
    }
   ],
   "source": [
    "kap = kbff \n",
    "print fcode(kap.evalf(5), assign_to = 'kap', standard = 2008, source_format = 'free')\n",
    "print fcode(kap.diff(rho).evalf(5), assign_to = 'krho', standard = 2008, source_format = 'free')\n",
    "print fcode(kap.diff(T).evalf(5), assign_to = 'ktemp', standard = 2008, source_format = 'free')"
   ]
  },
  {
   "cell_type": "code",
   "execution_count": 5,
   "metadata": {},
   "outputs": [
    {
     "name": "stdout",
     "output_type": "stream",
     "text": [
      "kap = T**(-3.5d0)*kbff0*rho/(5.6893d+44*T**(-15.5d0)*kbff0*rho**0.8d0 + &\n",
      "      1.0d0)\n",
      "krho = -4.5514d+44*T**(-19.0d0)*kbff0**2*rho**0.8d0/(5.6893d+44*T**( &\n",
      "      -15.5d0)*kbff0*rho**0.8d0 + 1.0d0)**2 + T**(-3.5d0)*kbff0/( &\n",
      "      5.6893d+44*T**(-15.5d0)*kbff0*rho**0.8d0 + 1.0d0)\n",
      "ktemp = 8.8184d+45*T**(-20.0d0)*kbff0**2*rho**1.8d0/(5.6893d+44*T**( &\n",
      "      -15.5d0)*kbff0*rho**0.8d0 + 1.0d0)**2 - 3.5d0*T**(-4.5d0)*kbff0* &\n",
      "      rho/(5.6893d+44*T**(-15.5d0)*kbff0*rho**0.8d0 + 1.0d0)\n"
     ]
    }
   ],
   "source": [
    "kap = kbff / (1 + kbff / kcut1)\n",
    "print fcode(kap.evalf(5), assign_to = 'kap', standard = 2008, source_format = 'free')\n",
    "print fcode(kap.diff(rho).evalf(5), assign_to = 'krho', standard = 2008, source_format = 'free')\n",
    "print fcode(kap.diff(T).evalf(5), assign_to = 'ktemp', standard = 2008, source_format = 'free')"
   ]
  },
  {
   "cell_type": "code",
   "execution_count": 6,
   "metadata": {},
   "outputs": [
    {
     "name": "stdout",
     "output_type": "stream",
     "text": [
      "kap = T**(-3.5d0)*kbff0*rho/(5.6893d+44*T**(-15.5d0)*kbff0*rho**0.8d0 + &\n",
      "      2.8446d+16*T**(-8.5d0)*kbff0*rho**0.8d0 + 1.0d0)\n",
      "krho = T**(-3.5d0)*kbff0*rho*(-4.5514d+44*T**(-15.5d0)*kbff0*rho**( &\n",
      "      -0.2d0) - 2.2757d+16*T**(-8.5d0)*kbff0*rho**(-0.2d0))/(5.6893d+44 &\n",
      "      *T**(-15.5d0)*kbff0*rho**0.8d0 + 2.8446d+16*T**(-8.5d0)*kbff0*rho &\n",
      "      **0.8d0 + 1.0d0)**2 + T**(-3.5d0)*kbff0/(5.6893d+44*T**(-15.5d0)* &\n",
      "      kbff0*rho**0.8d0 + 2.8446d+16*T**(-8.5d0)*kbff0*rho**0.8d0 + &\n",
      "      1.0d0)\n",
      "ktemp = -3.5d0*T**(-4.5d0)*kbff0*rho/(5.6893d+44*T**(-15.5d0)*kbff0*rho &\n",
      "      **0.8d0 + 2.8446d+16*T**(-8.5d0)*kbff0*rho**0.8d0 + 1.0d0) + T**( &\n",
      "      -3.5d0)*kbff0*rho*(8.8184d+45*T**(-16.5d0)*kbff0*rho**0.8d0 + &\n",
      "      2.4179d+17*T**(-9.5d0)*kbff0*rho**0.8d0)/(5.6893d+44*T**(-15.5d0) &\n",
      "      *kbff0*rho**0.8d0 + 2.8446d+16*T**(-8.5d0)*kbff0*rho**0.8d0 + &\n",
      "      1.0d0)**2\n"
     ]
    }
   ],
   "source": [
    "kap = kbff / (1 + kbff / kcut1 + kbff / kcut2)\n",
    "print fcode(kap.evalf(5), assign_to = 'kap', standard = 2008, source_format = 'free')\n",
    "print fcode(kap.diff(rho).evalf(5), assign_to = 'krho', standard = 2008, source_format = 'free')\n",
    "print fcode(kap.diff(T).evalf(5), assign_to = 'ktemp', standard = 2008, source_format = 'free')"
   ]
  },
  {
   "cell_type": "code",
   "execution_count": 7,
   "metadata": {},
   "outputs": [],
   "source": [
    "kes = ksct0 / (1 + (T / 4.5e8)**0.86) #/ (1 + 2.7e11 * rho / T**2)"
   ]
  },
  {
   "cell_type": "code",
   "execution_count": 8,
   "metadata": {},
   "outputs": [
    {
     "name": "stdout",
     "output_type": "stream",
     "text": [
      "ksct = ksct0/(3.6161d-8*T**0.86d0 + 1.0d0)\n",
      "krho = 0\n",
      "ktemp = -3.1098d-8*T**(-0.14d0)*ksct0/(3.6161d-8*T**0.86d0 + 1.0d0)**2\n"
     ]
    }
   ],
   "source": [
    "print fcode(kes.evalf(5), assign_to = 'ksct', standard = 2008, source_format = 'free')\n",
    "print fcode(kes.diff(rho).evalf(5), assign_to = 'krho', standard = 2008, source_format = 'free')\n",
    "print fcode(kes.diff(T).evalf(5), assign_to = 'ktemp', standard = 2008, source_format = 'free')"
   ]
  }
 ],
 "metadata": {
  "kernelspec": {
   "display_name": "Python 2",
   "language": "python",
   "name": "python2"
  },
  "language_info": {
   "codemirror_mode": {
    "name": "ipython",
    "version": 2
   },
   "file_extension": ".py",
   "mimetype": "text/x-python",
   "name": "python",
   "nbconvert_exporter": "python",
   "pygments_lexer": "ipython2",
   "version": "2.7.15"
  }
 },
 "nbformat": 4,
 "nbformat_minor": 2
}
